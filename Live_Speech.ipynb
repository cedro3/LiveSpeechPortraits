{
  "nbformat": 4,
  "nbformat_minor": 0,
  "metadata": {
    "colab": {
      "name": "Live_Speech",
      "provenance": [],
      "mount_file_id": "1MDI-cP03mGKmLmcwyv5WckyhJTr1DZwI",
      "authorship_tag": "ABX9TyMT6s+PRMrsHGf02HB6NDAu",
      "include_colab_link": true
    },
    "kernelspec": {
      "name": "python3",
      "display_name": "Python 3"
    },
    "language_info": {
      "name": "python"
    },
    "accelerator": "GPU"
  },
  "cells": [
    {
      "cell_type": "markdown",
      "metadata": {
        "id": "view-in-github",
        "colab_type": "text"
      },
      "source": [
        "<a href=\"https://colab.research.google.com/github/cedro3/LiveSpeechPortraits/blob/main/Live_Speech.ipynb\" target=\"_parent\"><img src=\"https://colab.research.google.com/assets/colab-badge.svg\" alt=\"Open In Colab\"/></a>"
      ]
    },
    {
      "cell_type": "markdown",
      "metadata": {
        "id": "AeYhttdx2_Xv"
      },
      "source": [
        "### セットアップ"
      ]
    },
    {
      "cell_type": "code",
      "metadata": {
        "id": "dAGBdXp44fsY"
      },
      "source": [
        "# githubからコードを取得\n",
        "! git clone https://github.com/cedro3/LiveSpeechPortraits.git\n",
        "%cd LiveSpeechPortraits\n",
        "\n",
        "# ライブラリーのインストール\n",
        "! pip install dominate\n",
        "! pip install sox\n",
        "! apt-get install sox libsox-dev libsox-fmt-all\n",
        "! pip install librosa==0.6\n",
        "! pip install numba==0.48\n",
        "\n",
        "# データのダウンロード\n",
        "! pip install --upgrade gdown\n",
        "import gdown\n",
        "gdown.download('https://drive.google.com/uc?id=1L869kfYC5MK4UPfA30oDZvtUioHrh6Li', './live.zip', quiet=False)\n",
        "! unzip live.zip -d data"
      ],
      "execution_count": null,
      "outputs": []
    },
    {
      "cell_type": "markdown",
      "metadata": {
        "id": "E-knMG2A3nVs"
      },
      "source": [
        "### プログラム本体\n",
        "**--id の後に人物を指定する（May, McStay, Nadella, Obama1, Obama2）**\\\n",
        "**--driving_audio の後に音声ファイルを指定**"
      ]
    },
    {
      "cell_type": "code",
      "metadata": {
        "id": "vhg_x6mL5GJU"
      },
      "source": [
        "# 音声に合わせて顔画像を動かす\n",
        "! python demo.py --id Obama1 --driving_audio ./data/input/00083.wav"
      ],
      "execution_count": null,
      "outputs": []
    },
    {
      "cell_type": "markdown",
      "metadata": {
        "id": "h5j8bxth8IN0"
      },
      "source": [
        "**results/の後に、人物/音声ファイル（拡張子なし）/音声ファイルを指定**"
      ]
    },
    {
      "cell_type": "code",
      "metadata": {
        "id": "cMG05oQZN1Be"
      },
      "source": [
        "# output.mp4をリセット\n",
        "import os\n",
        "if os.path.exists('./output.mp4'):\n",
        "   os.remove('./output.mp4')\n",
        "\n",
        "# aviからmp4に変換\n",
        "! ffmpeg -i results/Obama1/00083/00083.avi output.mp4"
      ],
      "execution_count": null,
      "outputs": []
    },
    {
      "cell_type": "code",
      "metadata": {
        "id": "qw9Hs4R6OUXm"
      },
      "source": [
        "# mp4の再生\n",
        "from IPython.display import HTML\n",
        "from base64 import b64encode\n",
        " \n",
        "mp4 = open('./output.mp4', 'rb').read()\n",
        "data_url = 'data:video/mp4;base64,' + b64encode(mp4).decode()\n",
        "HTML(f\"\"\"\n",
        "<video width=\"50%\" height=\"50%\" controls>\n",
        "      <source src=\"{data_url}\" type=\"video/mp4\">\n",
        "</video>\"\"\")"
      ],
      "execution_count": null,
      "outputs": []
    }
  ]
}
